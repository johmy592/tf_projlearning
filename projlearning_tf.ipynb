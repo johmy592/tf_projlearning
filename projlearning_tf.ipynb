{
 "cells": [
  {
   "cell_type": "code",
   "execution_count": 3,
   "metadata": {},
   "outputs": [],
   "source": [
    "import tensorflow as tf\n",
    "import numpy as np\n",
    "from load_glove import *\n",
    "from data_helpers import *"
   ]
  },
  {
   "cell_type": "code",
   "execution_count": 2,
   "metadata": {},
   "outputs": [
    {
     "name": "stdout",
     "output_type": "stream",
     "text": [
      "Done. 400000  words loaded!\n"
     ]
    },
    {
     "ename": "NameError",
     "evalue": "name 'normalize_embeddings' is not defined",
     "output_type": "error",
     "traceback": [
      "\u001b[0;31m---------------------------------------------------------------------------\u001b[0m",
      "\u001b[0;31mNameError\u001b[0m                                 Traceback (most recent call last)",
      "\u001b[0;32m<ipython-input-2-74afff2ac9f5>\u001b[0m in \u001b[0;36m<module>\u001b[0;34m()\u001b[0m\n\u001b[1;32m      5\u001b[0m \u001b[0mem\u001b[0m \u001b[0;34m=\u001b[0m \u001b[0mload_wiki_embeddings\u001b[0m\u001b[0;34m(\u001b[0m\u001b[0mwiki_file\u001b[0m\u001b[0;34m)\u001b[0m\u001b[0;34m\u001b[0m\u001b[0m\n\u001b[1;32m      6\u001b[0m \u001b[0;31m#em = load_glove_embeddings(glove_file)\u001b[0m\u001b[0;34m\u001b[0m\u001b[0;34m\u001b[0m\u001b[0m\n\u001b[0;32m----> 7\u001b[0;31m \u001b[0mnormalize_embeddings\u001b[0m\u001b[0;34m(\u001b[0m\u001b[0mem\u001b[0m\u001b[0;34m)\u001b[0m\u001b[0;34m\u001b[0m\u001b[0m\n\u001b[0m",
      "\u001b[0;31mNameError\u001b[0m: name 'normalize_embeddings' is not defined"
     ]
    }
   ],
   "source": [
    "# Load word embeddings from glove file\n",
    "glove_file = \"/home/johannes/thesis_code/word_embeddings/glove.6B.100d.txt\"\n",
    "wiki_file = \"/home/johannes/thesis_code/word_embeddings/wiki-news-300d-1M.vec\"\n",
    "\n",
    "em = load_wiki_embeddings(wiki_file)\n",
    "#em = load_glove_embeddings(glove_file)\n",
    "normalize_embeddings(em)"
   ]
  },
  {
   "cell_type": "code",
   "execution_count": 71,
   "metadata": {},
   "outputs": [
    {
     "data": {
      "text/plain": [
       "array([ 3.92290160e-02,  9.83694296e-02,  2.56116784e-02, -1.74571100e-02,\n",
       "       -1.26831248e-01, -9.21545401e-02,  1.17172439e-01,  2.06635180e-02,\n",
       "       -5.50235441e-03,  2.33157320e-02, -1.42507021e-02,  1.17964145e-02,\n",
       "        5.42714237e-02, -1.42111168e-02, -9.47275835e-02,  1.37202593e-01,\n",
       "       -2.29990497e-02,  6.65032763e-02,  4.21979122e-02,  3.83581397e-02,\n",
       "       -5.96946076e-02,  1.39736051e-02, -6.99076107e-02, -6.61074235e-02,\n",
       "       -6.44052563e-02,  1.06761510e-01,  1.32887797e-01,  2.23260999e-02,\n",
       "       -2.99660596e-02, -7.34702862e-02, -2.44637052e-02, -3.80414575e-02,\n",
       "        4.04165745e-02,  3.62997050e-02,  4.98378720e-02, -1.40527757e-02,\n",
       "       -6.48011091e-02, -1.00863302e-01,  1.75758659e-02, -1.47653108e-02,\n",
       "        1.17964145e-02,  2.14552237e-02, -8.80376706e-02, -7.95664199e-03,\n",
       "        7.00659518e-02, -1.32610700e-02, -4.69085610e-02,  6.68991292e-03,\n",
       "       -1.08859530e-02,  4.75419255e-02, -1.01417496e-01,  1.29839730e-02,\n",
       "       -3.38216662e-01,  1.65862338e-02,  1.12026352e-02, -1.05296854e-02,\n",
       "        4.07728420e-03,  5.22525743e-02,  4.35042266e-02,  2.36324143e-02,\n",
       "        1.17172439e-02,  2.91347687e-02,  8.82751823e-03,  6.16342865e-02,\n",
       "       -2.77888690e-02, -8.26540720e-02,  4.29896179e-02,  7.98831022e-02,\n",
       "       -5.64090290e-02, -8.26540720e-02,  4.30292032e-02,  7.41036508e-02,\n",
       "        3.66559725e-02, -5.16587950e-02, -6.01300457e-02, -6.22280657e-02,\n",
       "        2.65221400e-03,  1.67841602e-02,  4.47313704e-03, -1.12422205e-02,\n",
       "        1.19547556e-02, -4.07728420e-03,  9.76173092e-02, -4.98774572e-02,\n",
       "       -5.08670893e-02, -3.61017786e-02, -2.59679460e-02,  5.51818852e-02,\n",
       "       -2.45428758e-03, -1.93967889e-03,  3.66163873e-02, -1.90009361e-02,\n",
       "       -4.66314640e-02, -8.17436105e-02,  4.34250560e-02,  6.41281593e-03,\n",
       "        5.42318384e-03,  2.75513573e-02,  6.68199586e-02, -9.26295635e-03,\n",
       "        7.30744334e-02,  5.18963067e-02,  2.17323207e-02, -3.72101665e-03,\n",
       "        3.60226080e-03, -3.81602133e-02, -2.37511701e-04,  1.18755851e-04,\n",
       "       -6.65824469e-02, -3.86748220e-02,  3.55079993e-02,  2.64825547e-02,\n",
       "       -2.69179928e-03,  5.66069554e-03, -5.15400392e-02, -1.47257255e-02,\n",
       "        1.37756787e-02, -8.74834766e-03, -7.99226874e-02, -1.78925482e-02,\n",
       "        5.28463535e-02, -5.31630358e-02, -5.00753837e-02, -1.38746419e-01,\n",
       "        7.10555839e-02,  1.88821802e-02, -2.85409894e-02,  3.82393839e-02,\n",
       "        6.57511559e-02, -1.07592801e-01, -6.23864068e-02, -1.19943409e-02,\n",
       "        5.89424872e-02, -6.59490824e-02, -8.99377642e-02,  1.20339262e-02,\n",
       "        6.76908348e-02, -4.89274104e-02, -2.33949026e-02,  2.84222336e-02,\n",
       "        5.34401328e-03,  3.00056449e-02, -4.25937651e-02, -1.38548492e-02,\n",
       "       -6.61074235e-03,  2.43845347e-02,  3.17473974e-02,  7.25598247e-02,\n",
       "       -5.04712365e-02, -3.20640797e-02, -1.20260091e-01,  1.94363742e-02,\n",
       "       -9.90423794e-02,  7.99226874e-02, -6.17926276e-02,  8.50291890e-02,\n",
       "       -9.58755567e-02,  2.46220464e-02, -2.64825547e-02,  7.77454968e-02,\n",
       "        7.24410689e-03, -6.33364536e-03,  5.47068618e-02,  5.77945140e-02,\n",
       "       -3.75664341e-02, -2.81055513e-03,  1.33798258e-02,  1.99905682e-02,\n",
       "       -8.27332426e-03, -8.23373897e-03,  1.49236519e-02,  4.15645477e-02,\n",
       "        1.69820866e-02,  6.01696310e-03, -4.92045074e-02, -1.90801067e-02,\n",
       "        6.28218450e-02, -3.27370295e-02,  5.94570959e-02,  1.19310045e-01,\n",
       "        2.17719059e-03, -9.78152356e-02,  8.08727342e-02, -2.66408958e-02,\n",
       "        1.03832199e-01,  1.36569228e-01,  2.52158256e-02,  4.01790628e-02,\n",
       "       -8.06352225e-02, -9.62318243e-02,  8.25749014e-02,  1.50424077e-02,\n",
       "       -3.62997050e-02,  2.48991433e-02,  1.09532480e-01,  5.15796244e-02,\n",
       "       -5.51818852e-02, -3.28557853e-02,  2.91743540e-02, -5.86258049e-02,\n",
       "       -6.73345673e-02, -6.38906476e-02, -3.04410830e-02,  5.28859388e-02,\n",
       "       -6.88783933e-02, -1.44486285e-02,  1.83279863e-02,  3.86748220e-02,\n",
       "       -3.53100729e-02, -3.56267552e-04,  1.19943409e-02,  6.48406944e-02,\n",
       "       -1.09294968e-01,  1.13530593e-01, -1.19389215e-01, -4.72252432e-02,\n",
       "        5.92195842e-02,  5.28859388e-02, -1.27860466e-02, -2.39886818e-02,\n",
       "        9.45692423e-02, -4.84128018e-02,  2.50574845e-02,  5.49839588e-02,\n",
       "        8.17831958e-02, -4.38209089e-02,  4.76210961e-02,  2.78284543e-02,\n",
       "       -1.48048960e-02,  9.26295635e-02,  4.87690693e-02, -3.86352367e-02,\n",
       "        3.02827419e-02,  1.61903810e-02,  6.67407880e-02,  5.66069554e-03,\n",
       "       -6.18717982e-02,  2.65221400e-03, -5.11441863e-02,  2.33553173e-03,\n",
       "        7.60037444e-03, -6.37718918e-02,  8.55437977e-02,  5.89029019e-02,\n",
       "        1.87238391e-02,  2.61262871e-03,  2.53741667e-02,  3.80414575e-02,\n",
       "       -3.12723740e-03,  5.70819788e-02, -1.18755851e-03, -7.94476640e-02,\n",
       "        4.14457919e-02,  5.82299521e-02, -7.52120387e-04,  2.77492838e-02,\n",
       "       -8.15060988e-02, -1.31027288e-02, -2.81847219e-02, -9.10461521e-04,\n",
       "       -5.45881060e-02, -4.32271296e-02, -8.40395569e-02,  4.84919723e-02,\n",
       "       -1.10165844e-01,  5.20942331e-02, -9.65485065e-02,  5.01149689e-02,\n",
       "        8.51479449e-02, -5.12233569e-02, -5.76757581e-02,  8.17436105e-02,\n",
       "        3.83581397e-02,  2.60471166e-02, -4.14062066e-02,  3.60621933e-02,\n",
       "       -2.82638924e-02, -4.73439991e-02, -5.77153434e-02,  2.55325079e-02,\n",
       "       -2.18510765e-02,  3.74476782e-02,  1.86050833e-03,  1.96738859e-02,\n",
       "        2.68784075e-02,  5.30442799e-03, -1.04584319e-01,  3.85164809e-02,\n",
       "        1.55966017e-02, -2.47408022e-02,  1.43694579e-02, -2.04655916e-02,\n",
       "        2.69179928e-02,  5.85862196e-02,  6.48011091e-02, -5.54589822e-02,\n",
       "        9.93194764e-02, -5.48652030e-02,  5.83091226e-02, -5.17379656e-02])"
      ]
     },
     "execution_count": 71,
     "metadata": {},
     "output_type": "execute_result"
    }
   ],
   "source": [
    "list(em.items())[-1][1]"
   ]
  },
  {
   "cell_type": "code",
   "execution_count": 43,
   "metadata": {},
   "outputs": [],
   "source": [
    "vocab_size = len(em)"
   ]
  },
  {
   "cell_type": "code",
   "execution_count": 44,
   "metadata": {},
   "outputs": [],
   "source": [
    "learning_rate = 0.01\n",
    "training_epochs = 25\n",
    "batch_size = 100\n",
    "display_step = 1\n",
    "\n",
    "k=24\n",
    "d=300"
   ]
  },
  {
   "cell_type": "code",
   "execution_count": 61,
   "metadata": {},
   "outputs": [],
   "source": [
    "#em_ = np.array(em.items())\n",
    "embeddings = tf.get_variable(\"embeddings\", shape=[dim1, dim2], initializer=tf.constant_initializer(np.array(embeddings_matrix))\n",
    "\n"
   ]
  },
  {
   "cell_type": "code",
   "execution_count": 45,
   "metadata": {},
   "outputs": [],
   "source": [
    "x = tf.placeholder(tf.float32, [None, d]) # mnist data image of shape 28*28=784\n",
    "y = tf.placeholder(tf.float32, [None, d]) # 0-9 digits recognition => 10 classes"
   ]
  },
  {
   "cell_type": "code",
   "execution_count": 46,
   "metadata": {},
   "outputs": [],
   "source": [
    "#b = tf.Variable(tf.zeros([k]))\n",
    "W = tf.Variable(tf.math.add(tf.eye(300),tf.random.normal([300, 300],0,0.2)))"
   ]
  },
  {
   "cell_type": "code",
   "execution_count": 47,
   "metadata": {},
   "outputs": [],
   "source": [
    "pred = tf.nn.softmax(tf.matmul(x, W)) # Softmax"
   ]
  },
  {
   "cell_type": "code",
   "execution_count": 48,
   "metadata": {},
   "outputs": [],
   "source": [
    "cost = tf.reduce_mean(-tf.reduce_sum(y*tf.log(pred), reduction_indices=1))\n",
    "optimizer = tf.train.GradientDescentOptimizer(learning_rate).minimize(cost)\n",
    "init = tf.global_variables_initializer()"
   ]
  },
  {
   "cell_type": "code",
   "execution_count": 63,
   "metadata": {},
   "outputs": [
    {
     "ename": "ValueError",
     "evalue": "could not convert string to float: 'Scud'",
     "output_type": "error",
     "traceback": [
      "\u001b[0;31m---------------------------------------------------------------------------\u001b[0m",
      "\u001b[0;31mValueError\u001b[0m                                Traceback (most recent call last)",
      "\u001b[0;32m<ipython-input-63-a4583ab05f89>\u001b[0m in \u001b[0;36m<module>\u001b[0;34m()\u001b[0m\n\u001b[1;32m      5\u001b[0m     \u001b[0msess\u001b[0m\u001b[0;34m.\u001b[0m\u001b[0mrun\u001b[0m\u001b[0;34m(\u001b[0m\u001b[0minit\u001b[0m\u001b[0;34m)\u001b[0m\u001b[0;34m\u001b[0m\u001b[0m\n\u001b[1;32m      6\u001b[0m     \u001b[0;31m# Embeddings\u001b[0m\u001b[0;34m\u001b[0m\u001b[0;34m\u001b[0m\u001b[0m\n\u001b[0;32m----> 7\u001b[0;31m     \u001b[0msess\u001b[0m\u001b[0;34m.\u001b[0m\u001b[0mrun\u001b[0m\u001b[0;34m(\u001b[0m\u001b[0membedding_init\u001b[0m\u001b[0;34m,\u001b[0m \u001b[0mfeed_dict\u001b[0m\u001b[0;34m=\u001b[0m\u001b[0;34m{\u001b[0m\u001b[0membedding_placeholder\u001b[0m\u001b[0;34m:\u001b[0m \u001b[0mlist\u001b[0m\u001b[0;34m(\u001b[0m\u001b[0mem\u001b[0m\u001b[0;34m.\u001b[0m\u001b[0mitems\u001b[0m\u001b[0;34m(\u001b[0m\u001b[0;34m)\u001b[0m\u001b[0;34m)\u001b[0m\u001b[0;34m}\u001b[0m\u001b[0;34m)\u001b[0m\u001b[0;34m\u001b[0m\u001b[0m\n\u001b[0m\u001b[1;32m      8\u001b[0m \u001b[0;34m\u001b[0m\u001b[0m\n\u001b[1;32m      9\u001b[0m     \u001b[0;31m# Training cycle\u001b[0m\u001b[0;34m\u001b[0m\u001b[0;34m\u001b[0m\u001b[0m\n",
      "\u001b[0;32m/usr/local/lib/python3.5/dist-packages/tensorflow/python/client/session.py\u001b[0m in \u001b[0;36mrun\u001b[0;34m(self, fetches, feed_dict, options, run_metadata)\u001b[0m\n\u001b[1;32m    927\u001b[0m     \u001b[0;32mtry\u001b[0m\u001b[0;34m:\u001b[0m\u001b[0;34m\u001b[0m\u001b[0m\n\u001b[1;32m    928\u001b[0m       result = self._run(None, fetches, feed_dict, options_ptr,\n\u001b[0;32m--> 929\u001b[0;31m                          run_metadata_ptr)\n\u001b[0m\u001b[1;32m    930\u001b[0m       \u001b[0;32mif\u001b[0m \u001b[0mrun_metadata\u001b[0m\u001b[0;34m:\u001b[0m\u001b[0;34m\u001b[0m\u001b[0m\n\u001b[1;32m    931\u001b[0m         \u001b[0mproto_data\u001b[0m \u001b[0;34m=\u001b[0m \u001b[0mtf_session\u001b[0m\u001b[0;34m.\u001b[0m\u001b[0mTF_GetBuffer\u001b[0m\u001b[0;34m(\u001b[0m\u001b[0mrun_metadata_ptr\u001b[0m\u001b[0;34m)\u001b[0m\u001b[0;34m\u001b[0m\u001b[0m\n",
      "\u001b[0;32m/usr/local/lib/python3.5/dist-packages/tensorflow/python/client/session.py\u001b[0m in \u001b[0;36m_run\u001b[0;34m(self, handle, fetches, feed_dict, options, run_metadata)\u001b[0m\n\u001b[1;32m   1119\u001b[0m             \u001b[0mfeed_handles\u001b[0m\u001b[0;34m[\u001b[0m\u001b[0msubfeed_t\u001b[0m\u001b[0;34m]\u001b[0m \u001b[0;34m=\u001b[0m \u001b[0msubfeed_val\u001b[0m\u001b[0;34m\u001b[0m\u001b[0m\n\u001b[1;32m   1120\u001b[0m           \u001b[0;32melse\u001b[0m\u001b[0;34m:\u001b[0m\u001b[0;34m\u001b[0m\u001b[0m\n\u001b[0;32m-> 1121\u001b[0;31m             \u001b[0mnp_val\u001b[0m \u001b[0;34m=\u001b[0m \u001b[0mnp\u001b[0m\u001b[0;34m.\u001b[0m\u001b[0masarray\u001b[0m\u001b[0;34m(\u001b[0m\u001b[0msubfeed_val\u001b[0m\u001b[0;34m,\u001b[0m \u001b[0mdtype\u001b[0m\u001b[0;34m=\u001b[0m\u001b[0msubfeed_dtype\u001b[0m\u001b[0;34m)\u001b[0m\u001b[0;34m\u001b[0m\u001b[0m\n\u001b[0m\u001b[1;32m   1122\u001b[0m \u001b[0;34m\u001b[0m\u001b[0m\n\u001b[1;32m   1123\u001b[0m           if (not is_tensor_handle_feed and\n",
      "\u001b[0;32m/usr/local/lib/python3.5/dist-packages/numpy/core/numeric.py\u001b[0m in \u001b[0;36masarray\u001b[0;34m(a, dtype, order)\u001b[0m\n\u001b[1;32m    499\u001b[0m \u001b[0;34m\u001b[0m\u001b[0m\n\u001b[1;32m    500\u001b[0m     \"\"\"\n\u001b[0;32m--> 501\u001b[0;31m     \u001b[0;32mreturn\u001b[0m \u001b[0marray\u001b[0m\u001b[0;34m(\u001b[0m\u001b[0ma\u001b[0m\u001b[0;34m,\u001b[0m \u001b[0mdtype\u001b[0m\u001b[0;34m,\u001b[0m \u001b[0mcopy\u001b[0m\u001b[0;34m=\u001b[0m\u001b[0;32mFalse\u001b[0m\u001b[0;34m,\u001b[0m \u001b[0morder\u001b[0m\u001b[0;34m=\u001b[0m\u001b[0morder\u001b[0m\u001b[0;34m)\u001b[0m\u001b[0;34m\u001b[0m\u001b[0m\n\u001b[0m\u001b[1;32m    502\u001b[0m \u001b[0;34m\u001b[0m\u001b[0m\n\u001b[1;32m    503\u001b[0m \u001b[0;34m\u001b[0m\u001b[0m\n",
      "\u001b[0;31mValueError\u001b[0m: could not convert string to float: 'Scud'"
     ]
    }
   ],
   "source": [
    "\n",
    "with tf.Session() as sess:\n",
    "\n",
    "    # Run the initializer\n",
    "    sess.run(init)\n",
    "    # Embeddings\n",
    "    sess.run(embedding_init, feed_dict={embedding_placeholder: list(em.items())})\n",
    "\n",
    "    # Training cycle\n",
    "    \"\"\"\n",
    "    for epoch in range(training_epochs):\n",
    "        avg_cost = 0.\n",
    "        total_batch = int(mnist.train.num_examples/batch_size)\n",
    "        # Loop over all batches\n",
    "        for i in range(total_batch):\n",
    "            batch_xs, batch_ys = mnist.train.next_batch(batch_size)\n",
    "            # Run optimization op (backprop) and cost op (to get loss value)\n",
    "            _, c = sess.run([optimizer, cost], feed_dict={x: batch_xs,\n",
    "                                                          y: batch_ys})\n",
    "            # Compute average loss\n",
    "            avg_cost += c / total_batch\n",
    "        # Display logs per epoch step\n",
    "        if (epoch+1) % display_step == 0:\n",
    "            print(\"Epoch:\", '%04d' % (epoch+1), \"cost=\", \"{:.9f}\".format(avg_cost))\n",
    "\n",
    "    print(\"Optimization Finished!\")\n",
    "\n",
    "    # Test model\n",
    "    correct_prediction = tf.equal(tf.argmax(pred, 1), tf.argmax(y, 1))\n",
    "    # Calculate accuracy\n",
    "    accuracy = tf.reduce_mean(tf.cast(correct_prediction, tf.float32))\n",
    "print(\"Accuracy:\", accuracy.eval({x: mnist.test.images, y: mnist.test.labels}))\n",
    "\"\"\""
   ]
  },
  {
   "cell_type": "code",
   "execution_count": null,
   "metadata": {},
   "outputs": [],
   "source": []
  }
 ],
 "metadata": {
  "kernelspec": {
   "display_name": "Python 3",
   "language": "python",
   "name": "python3"
  },
  "language_info": {
   "codemirror_mode": {
    "name": "ipython",
    "version": 3
   },
   "file_extension": ".py",
   "mimetype": "text/x-python",
   "name": "python",
   "nbconvert_exporter": "python",
   "pygments_lexer": "ipython3",
   "version": "3.5.2"
  }
 },
 "nbformat": 4,
 "nbformat_minor": 2
}
