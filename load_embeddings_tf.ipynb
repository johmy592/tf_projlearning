{
 "cells": [
  {
   "cell_type": "code",
   "execution_count": 1,
   "metadata": {},
   "outputs": [],
   "source": [
    "import os\n",
    "import urllib\n",
    "import zipfile\n",
    "import nltk\n",
    "import numpy as np\n",
    "import tensorflow as tf"
   ]
  },
  {
   "cell_type": "code",
   "execution_count": 2,
   "metadata": {},
   "outputs": [],
   "source": [
    "EMBEDDING_DIMENSION=100 # Available dimensions for 6B data is 50, 100, 200, 300\n",
    "data_directory = '/home/johannes/thesis_code/word_embeddings/'\n",
    "\n",
    "glove_weights_file_path = '/home/johannes/thesis_code/word_embeddings/glove.6B.100d.txt'\n",
    "\n"
   ]
  },
  {
   "cell_type": "code",
   "execution_count": 3,
   "metadata": {},
   "outputs": [],
   "source": [
    "PAD_TOKEN = 0\n",
    "\n",
    "word2idx = { 'PAD': PAD_TOKEN } # dict so we can lookup indices for tokenising our text later from string to sequence of integers weights = []\n",
    "\n",
    "weights=[]\n",
    "with open(glove_weights_file_path,'r') as file:\n",
    "    for index,line in enumerate(file):\n",
    "        values = line.split()\n",
    "        word = values[0]\n",
    "        word_weights = np.asarray(values[1:], dtype=np.float32)\n",
    "        word2idx[word] = index + 1\n",
    "        weights.append(word_weights)\n",
    "        if index + 1 == 40000:\n",
    "            # Limit vocabulary to top 40k terms\n",
    "            break\n"
   ]
  },
  {
   "cell_type": "code",
   "execution_count": 4,
   "metadata": {},
   "outputs": [],
   "source": [
    "EMBEDDING_DIMENSION = len(weights[0])"
   ]
  },
  {
   "cell_type": "code",
   "execution_count": 5,
   "metadata": {},
   "outputs": [],
   "source": [
    "weights.insert(0, np.random.randn(EMBEDDING_DIMENSION))\n",
    "UNKNOWN_TOKEN=len(weights) \n",
    "word2idx['UNK'] = UNKNOWN_TOKEN \n",
    "weights.append(np.random.randn(EMBEDDING_DIMENSION))"
   ]
  },
  {
   "cell_type": "code",
   "execution_count": 6,
   "metadata": {},
   "outputs": [],
   "source": [
    "weights = np.asarray(weights, dtype=np.float32)\n",
    "VOCAB_SIZE=weights.shape[0]"
   ]
  },
  {
   "cell_type": "code",
   "execution_count": 7,
   "metadata": {},
   "outputs": [],
   "source": [
    "\n",
    "features = {}\n",
    "features['word_indices'] = nltk.word_tokenize('hello world') # ['hello', 'world']\n",
    "features['word_indices'] = [word2idx.get(word, UNKNOWN_TOKEN) for word in features['word_indices']]\n"
   ]
  },
  {
   "cell_type": "code",
   "execution_count": 8,
   "metadata": {},
   "outputs": [],
   "source": [
    "glove_weights_initializer = tf.constant_initializer(weights)\n",
    "embedding_weights = tf.get_variable(\n",
    "    name='embedding_weights', \n",
    "    shape=(VOCAB_SIZE, EMBEDDING_DIMENSION), \n",
    "    initializer=glove_weights_initializer,\n",
    "    trainable=False)\n",
    "#embedding = tf.nn.embedding_lookup(embedding_weights, features['word_indices'])"
   ]
  },
  {
   "cell_type": "code",
   "execution_count": 9,
   "metadata": {},
   "outputs": [
    {
     "data": {
      "text/plain": [
       "<tf.Variable 'embedding_weights:0' shape=(40002, 100) dtype=float32_ref>"
      ]
     },
     "execution_count": 9,
     "metadata": {},
     "output_type": "execute_result"
    }
   ],
   "source": [
    "embedding_weights"
   ]
  },
  {
   "cell_type": "code",
   "execution_count": 11,
   "metadata": {},
   "outputs": [
    {
     "data": {
      "text/plain": [
       "'\\n******************\\nDONE WITH\\nWORD EMBEDDINGS??\\n******************\\n'"
      ]
     },
     "execution_count": 11,
     "metadata": {},
     "output_type": "execute_result"
    }
   ],
   "source": [
    "\"\"\"\n",
    "******************\n",
    "DONE WITH\n",
    "WORD EMBEDDINGS??\n",
    "******************\n",
    "\"\"\""
   ]
  },
  {
   "cell_type": "code",
   "execution_count": 12,
   "metadata": {},
   "outputs": [],
   "source": [
    "learning_rate = 0.01\n",
    "training_epochs = 25\n",
    "batch_size = 100\n",
    "display_step = 1\n",
    "\n",
    "k=24"
   ]
  },
  {
   "cell_type": "code",
   "execution_count": 43,
   "metadata": {},
   "outputs": [],
   "source": [
    "x = tf.placeholder(tf.float32, shape=(EMBEDDING_DIMENSION)) # mnist data image of shape 28*28=784\n",
    "h = tf.placeholder(tf.float32, shape=(EMBEDDING_DIMENSION))\n",
    "y = tf.placeholder(tf.float32) # 0-9 digits recognition => 10 classes"
   ]
  },
  {
   "cell_type": "code",
   "execution_count": 44,
   "metadata": {},
   "outputs": [],
   "source": [
    "W = tf.Variable(tf.math.add(tf.eye(EMBEDDING_DIMENSION),tf.random.normal([EMBEDDING_DIMENSION, EMBEDDING_DIMENSION],0,0.2)))"
   ]
  },
  {
   "cell_type": "code",
   "execution_count": 57,
   "metadata": {},
   "outputs": [],
   "source": [
    "proj = tf.matmul(tf.expand_dims(x,0),W)\n",
    "sim = tf.tensordot(proj, h, 1)\n",
    "pred = tf.math.sigmoid(sim)"
   ]
  },
  {
   "cell_type": "code",
   "execution_count": 59,
   "metadata": {},
   "outputs": [
    {
     "data": {
      "text/plain": [
       "<tf.Tensor 'Sigmoid_7:0' shape=(1,) dtype=float32>"
      ]
     },
     "execution_count": 59,
     "metadata": {},
     "output_type": "execute_result"
    }
   ],
   "source": [
    "pred"
   ]
  },
  {
   "cell_type": "code",
   "execution_count": 60,
   "metadata": {},
   "outputs": [],
   "source": [
    "cost = tf.reduce_mean(-tf.reduce_sum(y*tf.log(pred), reduction_indices=1))\n",
    "optimizer = tf.train.GradientDescentOptimizer(learning_rate).minimize(cost)\n",
    "init = tf.global_variables_initializer()"
   ]
  },
  {
   "cell_type": "code",
   "execution_count": null,
   "metadata": {},
   "outputs": [],
   "source": []
  }
 ],
 "metadata": {
  "kernelspec": {
   "display_name": "Python 3",
   "language": "python",
   "name": "python3"
  },
  "language_info": {
   "codemirror_mode": {
    "name": "ipython",
    "version": 3
   },
   "file_extension": ".py",
   "mimetype": "text/x-python",
   "name": "python",
   "nbconvert_exporter": "python",
   "pygments_lexer": "ipython3",
   "version": "3.5.2"
  }
 },
 "nbformat": 4,
 "nbformat_minor": 2
}
